{
 "cells": [
  {
   "cell_type": "code",
   "execution_count": 2,
   "metadata": {},
   "outputs": [],
   "source": [
    "import anthropic\n",
    "import pandas as pd\n",
    "\n",
    "client = anthropic.Anthropic()"
   ]
  },
  {
   "cell_type": "code",
   "execution_count": 14,
   "metadata": {},
   "outputs": [],
   "source": [
    "def get_answer_prompt(problem:str) -> str:\n",
    "    prompt = \"\"\"Write Python code to solve this problem:\n",
    "\n",
    "    {problem}\n",
    "    \n",
    "    Don't forget the imports.\"\"\".format(problem=problem)\n",
    "    return prompt"
   ]
  },
  {
   "cell_type": "code",
   "execution_count": 15,
   "metadata": {},
   "outputs": [],
   "source": [
    "from datasets import load_dataset\n",
    "\n",
    "h_eval = load_dataset('openai/openai_humaneval')[\"test\"]"
   ]
  },
  {
   "cell_type": "code",
   "execution_count": 16,
   "metadata": {},
   "outputs": [],
   "source": [
    "problem = h_eval[0][\"prompt\"]\n",
    "test = h_eval[0][\"test\"]"
   ]
  },
  {
   "cell_type": "code",
   "execution_count": 17,
   "metadata": {},
   "outputs": [
    {
     "name": "stdout",
     "output_type": "stream",
     "text": [
      "\n",
      "\n",
      "METADATA = {\n",
      "    'author': 'jt',\n",
      "    'dataset': 'test'\n",
      "}\n",
      "\n",
      "\n",
      "def check(candidate):\n",
      "    assert candidate([1.0, 2.0, 3.9, 4.0, 5.0, 2.2], 0.3) == True\n",
      "    assert candidate([1.0, 2.0, 3.9, 4.0, 5.0, 2.2], 0.05) == False\n",
      "    assert candidate([1.0, 2.0, 5.9, 4.0, 5.0], 0.95) == True\n",
      "    assert candidate([1.0, 2.0, 5.9, 4.0, 5.0], 0.8) == False\n",
      "    assert candidate([1.0, 2.0, 3.0, 4.0, 5.0, 2.0], 0.1) == True\n",
      "    assert candidate([1.1, 2.2, 3.1, 4.1, 5.1], 1.0) == True\n",
      "    assert candidate([1.1, 2.2, 3.1, 4.1, 5.1], 0.5) == False\n",
      "\n",
      "\n"
     ]
    }
   ],
   "source": [
    "print(test)"
   ]
  },
  {
   "cell_type": "code",
   "execution_count": 18,
   "metadata": {},
   "outputs": [],
   "source": [
    "import re\n",
    "\n",
    "def extract_python_code(text):\n",
    "    pattern = r\"```python([\\s\\S]*?)```\"\n",
    "    matches = re.findall(pattern, text)\n",
    "    return matches[0].strip()"
   ]
  },
  {
   "cell_type": "code",
   "execution_count": 19,
   "metadata": {},
   "outputs": [],
   "source": [
    "messages = [{\"role\":\"user\", \"content\":[{\"type\":\"text\", \"text\":get_answer_prompt(problem)}]}]\n",
    "for i in range(5):\n",
    "    answer = client.messages.create(model=\"claude-3-5-sonnet-20241022\",\n",
    "        max_tokens=1000, temperature=0, messages=messages)\n",
    "    messages[0][\"content\"].append({\"type\":\"text\", \"text\":extract_python_code(answer.content[0].text)})\n",
    "    messages[0][\"content\"].append({\"type\":\"text\", \"text\":\"write more optimized code\"})\n"
   ]
  },
  {
   "cell_type": "code",
   "execution_count": null,
   "metadata": {},
   "outputs": [],
   "source": [
    "import contextlib\n",
    "import io\n",
    "import time\n",
    "from typing import Dict\n",
    "\n",
    "class TimeoutException(Exception):\n",
    "    pass\n",
    "\n",
    "\n",
    "class WriteOnlyStringIO(io.StringIO):\n",
    "    \"\"\"StringIO that throws an exception when it's read from\"\"\"\n",
    "\n",
    "    def read(self, *args, **kwargs):\n",
    "        raise IOError\n",
    "\n",
    "    def readline(self, *args, **kwargs):\n",
    "        raise IOError\n",
    "\n",
    "    def readlines(self, *args, **kwargs):\n",
    "        raise IOError\n",
    "\n",
    "    def readable(self, *args, **kwargs):\n",
    "        \"\"\"Returns True if the IO object can be read.\"\"\"\n",
    "        return False\n",
    "\n",
    "\n",
    "class redirect_stdin(contextlib._RedirectStream):  # type: ignore\n",
    "    _stream = \"stdin\"\n",
    "\n",
    "\n",
    "@contextlib.contextmanager\n",
    "def swallow_io():\n",
    "    stream = WriteOnlyStringIO()\n",
    "    with contextlib.redirect_stdout(stream):\n",
    "        with contextlib.redirect_stderr(stream):\n",
    "            with redirect_stdin(stream):\n",
    "                yield\n",
    "\n",
    "def unsafe_execute(problem: Dict, completion: str):\n",
    "    check_program = (\n",
    "        completion\n",
    "        + \"\\n\"\n",
    "        + problem[\"test\"]\n",
    "        + \"\\n\"\n",
    "        + f\"check({problem['entry_point']})\"\n",
    "    )\n",
    "    try:\n",
    "        exec_globals = {}\n",
    "        with swallow_io():\n",
    "            start = time.time()\n",
    "            exec(check_program, exec_globals)\n",
    "            time_taken = time.time() - start\n",
    "        return (\"passed\", time_taken)\n",
    "    except BaseException as e:\n",
    "        return (\"failed: {e}\", 0)"
   ]
  },
  {
   "cell_type": "code",
   "execution_count": 45,
   "metadata": {},
   "outputs": [
    {
     "data": {
      "text/plain": [
       "('passed', 0.0)"
      ]
     },
     "execution_count": 45,
     "metadata": {},
     "output_type": "execute_result"
    }
   ],
   "source": [
    "problem = h_eval[0]\n",
    "completion = extract_python_code(answer.content[0].text)\n",
    "unsafe_execute(problem, completion)"
   ]
  },
  {
   "cell_type": "code",
   "execution_count": null,
   "metadata": {},
   "outputs": [],
   "source": []
  }
 ],
 "metadata": {
  "kernelspec": {
   "display_name": "Python 3",
   "language": "python",
   "name": "python3"
  },
  "language_info": {
   "codemirror_mode": {
    "name": "ipython",
    "version": 3
   },
   "file_extension": ".py",
   "mimetype": "text/x-python",
   "name": "python",
   "nbconvert_exporter": "python",
   "pygments_lexer": "ipython3",
   "version": "3.12.4"
  }
 },
 "nbformat": 4,
 "nbformat_minor": 2
}

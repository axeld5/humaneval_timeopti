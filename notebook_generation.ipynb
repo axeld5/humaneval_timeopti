{
 "cells": [
  {
   "cell_type": "code",
   "execution_count": null,
   "metadata": {},
   "outputs": [],
   "source": [
    "import anthropic\n",
    "\n",
    "client = anthropic.Anthropic()"
   ]
  },
  {
   "cell_type": "code",
   "execution_count": 10,
   "metadata": {},
   "outputs": [],
   "source": [
    "def get_answer_prompt(problem:str) -> str:\n",
    "    prompt = \"\"\"Write Python code to solve this problem:\n",
    "\n",
    "    {problem}\n",
    "    \n",
    "    Don't forget the imports.\"\"\".format(problem=problem)\n",
    "    return prompt"
   ]
  },
  {
   "cell_type": "code",
   "execution_count": 11,
   "metadata": {},
   "outputs": [],
   "source": [
    "from datasets import load_dataset\n",
    "\n",
    "h_eval = load_dataset('openai/openai_humaneval')[\"test\"]"
   ]
  },
  {
   "cell_type": "code",
   "execution_count": 17,
   "metadata": {},
   "outputs": [],
   "source": [
    "from helper_functions import extract_python_code, max_index_of_min_value\n",
    "from test_execute import unsafe_execute\n",
    "from notebook_helper import create_notebook\n",
    "\n",
    "def generate_notebook_to_problem(problem, save_path):\n",
    "    messages = [{\"role\":\"user\", \"content\":[{\"type\":\"text\", \"text\":get_answer_prompt(problem[\"prompt\"])}]}]\n",
    "    time_list = []\n",
    "    answer_list = []\n",
    "    for i in range(5):\n",
    "        answer = client.messages.create(model=\"claude-3-7-sonnet-20250219\",\n",
    "            max_tokens=1000, temperature=0, messages=messages)\n",
    "        answer_list.append(answer.content[0].text)\n",
    "        text = extract_python_code(answer.content[0].text)\n",
    "        messages.append({\"role\":\"assistant\", \"content\":[{\"type\":\"text\", \"text\":text}]})    \n",
    "        status, time_taken = unsafe_execute(problem, text)\n",
    "        if status == \"passed\":\n",
    "            print(time_taken)\n",
    "            messages.append({\"role\":\"user\", \"content\":[{\"type\":\"text\", \"text\":\"Write more optimized code, which objective is to make the code faster. Explain your optimizations.\"}]})\n",
    "        else:\n",
    "            messages.append({\"role\":\"user\", \"content\":[{\"type\":\"text\", \"text\":f\"There was this error: {status}. Write better code. Explain your optimizations.\"}]})\n",
    "        time_list.append(time_taken)\n",
    "    max_time_index = max_index_of_min_value(time_list)\n",
    "    first_answer = answer_list[0]\n",
    "    modified_answer = answer_list[max_time_index]\n",
    "    print(modified_answer)\n",
    "    create_notebook(problem, first_answer, modified_answer, save_path)"
   ]
  },
  {
   "cell_type": "code",
   "execution_count": null,
   "metadata": {},
   "outputs": [
    {
     "name": "stdout",
     "output_type": "stream",
     "text": [
      "0.0009253025054931641\n",
      "0.0\n",
      "0.0\n"
     ]
    }
   ],
   "source": [
    "for i in range(5):\n",
    "    problem = h_eval[i]\n",
    "    save_path = \"optimized_problems/problem_{i}.ipynb\".format(i=i)\n",
    "    generate_notebook_to_problem(problem, save_path)"
   ]
  },
  {
   "cell_type": "code",
   "execution_count": null,
   "metadata": {},
   "outputs": [],
   "source": []
  },
  {
   "cell_type": "code",
   "execution_count": null,
   "metadata": {},
   "outputs": [],
   "source": []
  }
 ],
 "metadata": {
  "kernelspec": {
   "display_name": "Python 3",
   "language": "python",
   "name": "python3"
  },
  "language_info": {
   "codemirror_mode": {
    "name": "ipython",
    "version": 3
   },
   "file_extension": ".py",
   "mimetype": "text/x-python",
   "name": "python",
   "nbconvert_exporter": "python",
   "pygments_lexer": "ipython3",
   "version": "3.12.4"
  }
 },
 "nbformat": 4,
 "nbformat_minor": 2
}
